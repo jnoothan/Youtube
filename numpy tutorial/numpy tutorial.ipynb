{
 "cells": [
  {
   "cell_type": "code",
   "execution_count": 1,
   "id": "fd008dd5",
   "metadata": {},
   "outputs": [],
   "source": [
    "#!pip install numpy"
   ]
  },
  {
   "cell_type": "code",
   "execution_count": 2,
   "id": "0e4652f6",
   "metadata": {},
   "outputs": [],
   "source": [
    "import numpy as np"
   ]
  },
  {
   "cell_type": "code",
   "execution_count": 3,
   "id": "27da9ead",
   "metadata": {},
   "outputs": [
    {
     "name": "stdout",
     "output_type": "stream",
     "text": [
      "[1 2 3 4 5]\n"
     ]
    }
   ],
   "source": [
    "arr_id = np.array([1,2,3,4,5])\n",
    "print(arr_id)"
   ]
  },
  {
   "cell_type": "code",
   "execution_count": 4,
   "id": "c064a8ab",
   "metadata": {},
   "outputs": [
    {
     "name": "stdout",
     "output_type": "stream",
     "text": [
      "[[1 2 3]\n",
      " [4 5 6]\n",
      " [7 8 9]]\n"
     ]
    }
   ],
   "source": [
    "arr_2d = np.array([[1, 2, 3], [4, 5, 6], [7, 8, 9]])\n",
    "print(arr_2d)"
   ]
  },
  {
   "cell_type": "code",
   "execution_count": 5,
   "id": "b6ccbffa",
   "metadata": {},
   "outputs": [],
   "source": [
    "zeros_array = np.zeros((3, 4))  # 3x4 array of zeros\n",
    "ones_array = np.ones((2, 3))    # 2x3 array of ones\n",
    "identity_matrix = np.eye(3)     # 3x3 identity matrix"
   ]
  },
  {
   "cell_type": "code",
   "execution_count": 6,
   "id": "3eb7ced4",
   "metadata": {},
   "outputs": [
    {
     "data": {
      "text/plain": [
       "array([[0., 0., 0., 0.],\n",
       "       [0., 0., 0., 0.],\n",
       "       [0., 0., 0., 0.]])"
      ]
     },
     "execution_count": 6,
     "metadata": {},
     "output_type": "execute_result"
    }
   ],
   "source": [
    "zeros_array"
   ]
  },
  {
   "cell_type": "code",
   "execution_count": 7,
   "id": "f90798c5",
   "metadata": {},
   "outputs": [
    {
     "data": {
      "text/plain": [
       "array([[1., 1., 1.],\n",
       "       [1., 1., 1.]])"
      ]
     },
     "execution_count": 7,
     "metadata": {},
     "output_type": "execute_result"
    }
   ],
   "source": [
    "ones_array"
   ]
  },
  {
   "cell_type": "code",
   "execution_count": 8,
   "id": "51edf1d0",
   "metadata": {
    "scrolled": false
   },
   "outputs": [
    {
     "data": {
      "text/plain": [
       "array([[1., 0., 0.],\n",
       "       [0., 1., 0.],\n",
       "       [0., 0., 1.]])"
      ]
     },
     "execution_count": 8,
     "metadata": {},
     "output_type": "execute_result"
    }
   ],
   "source": [
    "identity_matrix"
   ]
  },
  {
   "cell_type": "code",
   "execution_count": 9,
   "id": "efccf321",
   "metadata": {},
   "outputs": [
    {
     "data": {
      "text/plain": [
       "array([2, 4, 6, 8])"
      ]
     },
     "execution_count": 9,
     "metadata": {},
     "output_type": "execute_result"
    }
   ],
   "source": [
    "arr=np.arange(2,10,step=2)\n",
    "arr"
   ]
  },
  {
   "cell_type": "code",
   "execution_count": 10,
   "id": "8d5b56b3",
   "metadata": {},
   "outputs": [
    {
     "data": {
      "text/plain": [
       "array([[2, 4],\n",
       "       [6, 8]])"
      ]
     },
     "execution_count": 10,
     "metadata": {},
     "output_type": "execute_result"
    }
   ],
   "source": [
    "arr.reshape(2,2)"
   ]
  },
  {
   "cell_type": "code",
   "execution_count": 11,
   "id": "a1577b01",
   "metadata": {},
   "outputs": [
    {
     "data": {
      "text/plain": [
       "array([[2],\n",
       "       [4],\n",
       "       [6],\n",
       "       [8]])"
      ]
     },
     "execution_count": 11,
     "metadata": {},
     "output_type": "execute_result"
    }
   ],
   "source": [
    "arr.reshape(4,1)"
   ]
  },
  {
   "cell_type": "code",
   "execution_count": 12,
   "id": "93ae7c72",
   "metadata": {},
   "outputs": [
    {
     "data": {
      "text/plain": [
       "numpy.ndarray"
      ]
     },
     "execution_count": 12,
     "metadata": {},
     "output_type": "execute_result"
    }
   ],
   "source": [
    "type(arr)"
   ]
  },
  {
   "cell_type": "code",
   "execution_count": 13,
   "id": "2fb8e500",
   "metadata": {},
   "outputs": [
    {
     "data": {
      "text/plain": [
       "(4,)"
      ]
     },
     "execution_count": 13,
     "metadata": {},
     "output_type": "execute_result"
    }
   ],
   "source": [
    "arr.shape"
   ]
  },
  {
   "cell_type": "code",
   "execution_count": 14,
   "id": "5fbd67b0",
   "metadata": {},
   "outputs": [
    {
     "data": {
      "text/plain": [
       "array([2, 4, 6, 8])"
      ]
     },
     "execution_count": 14,
     "metadata": {},
     "output_type": "execute_result"
    }
   ],
   "source": [
    "arr1=arr.copy()\n",
    "arr1"
   ]
  },
  {
   "cell_type": "code",
   "execution_count": 15,
   "id": "ddb74479",
   "metadata": {},
   "outputs": [
    {
     "data": {
      "text/plain": [
       "array([False,  True,  True,  True])"
      ]
     },
     "execution_count": 15,
     "metadata": {},
     "output_type": "execute_result"
    }
   ],
   "source": [
    "arr1>3"
   ]
  },
  {
   "cell_type": "code",
   "execution_count": 16,
   "id": "0a37aaca",
   "metadata": {},
   "outputs": [
    {
     "data": {
      "text/plain": [
       "array([ 1.        ,  1.18367347,  1.36734694,  1.55102041,  1.73469388,\n",
       "        1.91836735,  2.10204082,  2.28571429,  2.46938776,  2.65306122,\n",
       "        2.83673469,  3.02040816,  3.20408163,  3.3877551 ,  3.57142857,\n",
       "        3.75510204,  3.93877551,  4.12244898,  4.30612245,  4.48979592,\n",
       "        4.67346939,  4.85714286,  5.04081633,  5.2244898 ,  5.40816327,\n",
       "        5.59183673,  5.7755102 ,  5.95918367,  6.14285714,  6.32653061,\n",
       "        6.51020408,  6.69387755,  6.87755102,  7.06122449,  7.24489796,\n",
       "        7.42857143,  7.6122449 ,  7.79591837,  7.97959184,  8.16326531,\n",
       "        8.34693878,  8.53061224,  8.71428571,  8.89795918,  9.08163265,\n",
       "        9.26530612,  9.44897959,  9.63265306,  9.81632653, 10.        ])"
      ]
     },
     "execution_count": 16,
     "metadata": {},
     "output_type": "execute_result"
    }
   ],
   "source": [
    "np.linspace(1,10)"
   ]
  },
  {
   "cell_type": "code",
   "execution_count": 17,
   "id": "f4d5b4a5",
   "metadata": {},
   "outputs": [
    {
     "data": {
      "text/plain": [
       "array([ 1.  ,  3.25,  5.5 ,  7.75, 10.  ])"
      ]
     },
     "execution_count": 17,
     "metadata": {},
     "output_type": "execute_result"
    }
   ],
   "source": [
    "np.linspace(1,10,5)"
   ]
  },
  {
   "cell_type": "markdown",
   "id": "16746a14",
   "metadata": {},
   "source": [
    "# Array Operations:"
   ]
  },
  {
   "cell_type": "markdown",
   "id": "67cf6846",
   "metadata": {},
   "source": [
    "### 1. Element-wise Operations:"
   ]
  },
  {
   "cell_type": "code",
   "execution_count": 18,
   "id": "c6dfdcb1",
   "metadata": {},
   "outputs": [
    {
     "name": "stdout",
     "output_type": "stream",
     "text": [
      "[ 6  8 10 12]\n"
     ]
    }
   ],
   "source": [
    "a = np.array([1, 2, 3, 4])\n",
    "b = np.array([5, 6, 7, 8])\n",
    "\n",
    "result = a + b\n",
    "print(result)"
   ]
  },
  {
   "cell_type": "markdown",
   "id": "6bf9a036",
   "metadata": {},
   "source": [
    "### 2. Matrix Multiplication:"
   ]
  },
  {
   "cell_type": "code",
   "execution_count": 19,
   "id": "da52f37a",
   "metadata": {},
   "outputs": [
    {
     "name": "stdout",
     "output_type": "stream",
     "text": [
      "[[19 22]\n",
      " [43 50]]\n"
     ]
    }
   ],
   "source": [
    "matrix_a = np.array([[1, 2], [3, 4]])\n",
    "matrix_b = np.array([[5, 6], [7, 8]])\n",
    "\n",
    "result_matrix = np.dot(matrix_a, matrix_b)\n",
    "print(result_matrix)"
   ]
  },
  {
   "cell_type": "markdown",
   "id": "e8ead9c1",
   "metadata": {},
   "source": [
    "### 3. Indexing and Slicing:"
   ]
  },
  {
   "cell_type": "code",
   "execution_count": 20,
   "id": "ab4a43f6",
   "metadata": {},
   "outputs": [
    {
     "name": "stdout",
     "output_type": "stream",
     "text": [
      "2\n",
      "[1 2 3]\n"
     ]
    }
   ],
   "source": [
    "arr = np.array([0, 1, 2, 3, 4, 5])\n",
    "print(arr[2])      # Accessing element at index 2\n",
    "print(arr[1:4])    # Slicing from index 1 to 3 (exclusive)"
   ]
  },
  {
   "cell_type": "markdown",
   "id": "422eaab4",
   "metadata": {},
   "source": [
    "### 4. Reshaping:"
   ]
  },
  {
   "cell_type": "code",
   "execution_count": 21,
   "id": "ddc5e019",
   "metadata": {},
   "outputs": [
    {
     "name": "stdout",
     "output_type": "stream",
     "text": [
      "[[1 2]\n",
      " [3 4]\n",
      " [5 6]]\n"
     ]
    }
   ],
   "source": [
    "arr = np.array([[1, 2, 3], [4, 5, 6]])\n",
    "reshaped_arr = arr.reshape(3, 2)\n",
    "print(reshaped_arr)"
   ]
  },
  {
   "cell_type": "markdown",
   "id": "0e764440",
   "metadata": {},
   "source": [
    "### 5. Statistical Operations:"
   ]
  },
  {
   "cell_type": "code",
   "execution_count": 22,
   "id": "e67d976f",
   "metadata": {},
   "outputs": [
    {
     "name": "stdout",
     "output_type": "stream",
     "text": [
      "Mean: 3.0, Max: 5, Min: 1\n"
     ]
    }
   ],
   "source": [
    "arr = np.array([1, 2, 3, 4, 5])\n",
    "mean_value = np.mean(arr)\n",
    "max_value = np.max(arr)\n",
    "min_value = np.min(arr)\n",
    "\n",
    "print(f\"Mean: {mean_value}, Max: {max_value}, Min: {min_value}\")"
   ]
  },
  {
   "cell_type": "markdown",
   "id": "c78e8853",
   "metadata": {},
   "source": [
    "# Random Operations:"
   ]
  },
  {
   "cell_type": "markdown",
   "id": "5d2eb544",
   "metadata": {},
   "source": [
    "### 1. Generating Random Numbers:"
   ]
  },
  {
   "cell_type": "code",
   "execution_count": 23,
   "id": "fc1e7cd3",
   "metadata": {},
   "outputs": [
    {
     "name": "stdout",
     "output_type": "stream",
     "text": [
      "[[0.61430795 0.50702915 0.94094855]\n",
      " [0.01026344 0.91940472 0.18800637]\n",
      " [0.64740798 0.61114944 0.92470936]]\n"
     ]
    }
   ],
   "source": [
    "random_array = np.random.rand(3, 3)  # 3x3 array of random numbers between 0 and 1\n",
    "print(random_array)"
   ]
  },
  {
   "cell_type": "markdown",
   "id": "2a799962",
   "metadata": {},
   "source": [
    "### 2. Random Integer Array:"
   ]
  },
  {
   "cell_type": "code",
   "execution_count": 24,
   "id": "57c49566",
   "metadata": {},
   "outputs": [
    {
     "name": "stdout",
     "output_type": "stream",
     "text": [
      "[[4 3 3]\n",
      " [4 3 1]\n",
      " [5 8 7]]\n"
     ]
    }
   ],
   "source": [
    "random_int_array = np.random.randint(1, 10, size=(3, 3))  # 3x3 array of random integers between 1 and 10\n",
    "print(random_int_array)"
   ]
  },
  {
   "cell_type": "markdown",
   "id": "adf1afe2",
   "metadata": {},
   "source": [
    "# Universal Functions (ufuncs):"
   ]
  },
  {
   "cell_type": "markdown",
   "id": "283d1f19",
   "metadata": {},
   "source": [
    "### 1. Math Operations:"
   ]
  },
  {
   "cell_type": "code",
   "execution_count": 25,
   "id": "e4cf9b8c",
   "metadata": {},
   "outputs": [
    {
     "name": "stdout",
     "output_type": "stream",
     "text": [
      "Square Root: [1.         1.41421356 1.73205081 2.        ]\n",
      "Exponential: [ 2.71828183  7.3890561  20.08553692 54.59815003]\n",
      "Logarithm: [0.         0.69314718 1.09861229 1.38629436]\n"
     ]
    }
   ],
   "source": [
    "arr = np.array([1, 2, 3, 4])\n",
    "\n",
    "# Square root\n",
    "sqrt_arr = np.sqrt(arr)\n",
    "\n",
    "# Exponential\n",
    "exp_arr = np.exp(arr)\n",
    "\n",
    "# Logarithm\n",
    "log_arr = np.log(arr)\n",
    "\n",
    "print(\"Square Root:\", sqrt_arr)\n",
    "print(\"Exponential:\", exp_arr)\n",
    "print(\"Logarithm:\", log_arr)"
   ]
  },
  {
   "cell_type": "markdown",
   "id": "de45b9d4",
   "metadata": {},
   "source": [
    "### 2. Trigonometric Functions:"
   ]
  },
  {
   "cell_type": "code",
   "execution_count": 26,
   "id": "26069420",
   "metadata": {},
   "outputs": [
    {
     "data": {
      "text/plain": [
       "3.141592653589793"
      ]
     },
     "execution_count": 26,
     "metadata": {},
     "output_type": "execute_result"
    }
   ],
   "source": [
    "np.pi"
   ]
  },
  {
   "cell_type": "code",
   "execution_count": 27,
   "id": "b79cb887",
   "metadata": {},
   "outputs": [
    {
     "name": "stdout",
     "output_type": "stream",
     "text": [
      "Sine: [0.0000000e+00 1.0000000e+00 1.2246468e-16]\n",
      "Cosine: [ 1.000000e+00  6.123234e-17 -1.000000e+00]\n",
      "Tangent: [ 0.00000000e+00  1.63312394e+16 -1.22464680e-16]\n"
     ]
    }
   ],
   "source": [
    "angle_arr = np.array([0, np.pi/2, np.pi])\n",
    "\n",
    "# Sine, Cosine, Tangent\n",
    "sin_arr = np.sin(angle_arr)\n",
    "cos_arr = np.cos(angle_arr)\n",
    "tan_arr = np.tan(angle_arr)\n",
    "\n",
    "print(\"Sine:\", sin_arr)\n",
    "print(\"Cosine:\", cos_arr)\n",
    "print(\"Tangent:\", tan_arr)"
   ]
  },
  {
   "cell_type": "markdown",
   "id": "01346f5f",
   "metadata": {},
   "source": [
    "# Indexing and Fancy Indexing:"
   ]
  },
  {
   "cell_type": "code",
   "execution_count": null,
   "id": "07eb6c33",
   "metadata": {},
   "outputs": [],
   "source": [
    "### 1. Boolean Indexing:"
   ]
  },
  {
   "cell_type": "code",
   "execution_count": 28,
   "id": "fe3956e9",
   "metadata": {},
   "outputs": [
    {
     "name": "stdout",
     "output_type": "stream",
     "text": [
      "[3 4 5]\n"
     ]
    }
   ],
   "source": [
    "arr = np.array([1, 2, 3, 4, 5])\n",
    "\n",
    "# Boolean condition\n",
    "condition = arr > 2\n",
    "\n",
    "# Select elements based on the condition\n",
    "result = arr[condition]\n",
    "\n",
    "print(result)"
   ]
  },
  {
   "cell_type": "markdown",
   "id": "27ba6229",
   "metadata": {},
   "source": [
    "### 2. Fancy Indexing:"
   ]
  },
  {
   "cell_type": "code",
   "execution_count": 29,
   "id": "46dd0209",
   "metadata": {},
   "outputs": [
    {
     "data": {
      "text/plain": [
       "array([20, 40, 50])"
      ]
     },
     "execution_count": 29,
     "metadata": {},
     "output_type": "execute_result"
    }
   ],
   "source": [
    "arr = np.array([10, 20, 30, 40, 50])\n",
    "\n",
    "# Index array\n",
    "indexes = np.array([1, 3, 4])\n",
    "\n",
    "# Select elements using fancy indexing\n",
    "selected_elements = arr[indexes]\n",
    "\n",
    "selected_elements"
   ]
  },
  {
   "cell_type": "markdown",
   "id": "c6d3538c",
   "metadata": {},
   "source": [
    "# Stacking and Splitting:"
   ]
  },
  {
   "cell_type": "markdown",
   "id": "1667e202",
   "metadata": {},
   "source": [
    "### 1. Stacking Arrays:"
   ]
  },
  {
   "cell_type": "code",
   "execution_count": 30,
   "id": "54ca010f",
   "metadata": {},
   "outputs": [
    {
     "name": "stdout",
     "output_type": "stream",
     "text": [
      "Vertical Stack:\n",
      "[[1 2 3]\n",
      " [4 5 6]]\n",
      "Horizontal Stack:\n",
      "[1 2 3 4 5 6]\n"
     ]
    }
   ],
   "source": [
    "arr1 = np.array([1, 2, 3])\n",
    "arr2 = np.array([4, 5, 6])\n",
    "\n",
    "# Vertical stack\n",
    "v_stack = np.vstack((arr1, arr2))\n",
    "\n",
    "# Horizontal stack\n",
    "h_stack = np.hstack((arr1, arr2))\n",
    "\n",
    "print(\"Vertical Stack:\")\n",
    "print(v_stack)\n",
    "\n",
    "print(\"Horizontal Stack:\")\n",
    "print(h_stack)"
   ]
  },
  {
   "cell_type": "markdown",
   "id": "9b7ded7c",
   "metadata": {},
   "source": [
    "### 2. Splitting Arrays:"
   ]
  },
  {
   "cell_type": "code",
   "execution_count": 31,
   "id": "f6d6d58e",
   "metadata": {},
   "outputs": [
    {
     "name": "stdout",
     "output_type": "stream",
     "text": [
      "Split Array:\n",
      "[array([1, 2]), array([3, 4]), array([5, 6])]\n"
     ]
    }
   ],
   "source": [
    "arr = np.array([1, 2, 3, 4, 5, 6])\n",
    "\n",
    "# Split into three equal parts\n",
    "split_arr = np.split(arr, 3)\n",
    "\n",
    "print(\"Split Array:\")\n",
    "print(split_arr)"
   ]
  },
  {
   "cell_type": "markdown",
   "id": "d6f10d47",
   "metadata": {},
   "source": [
    "# Working with Statistics:"
   ]
  },
  {
   "cell_type": "markdown",
   "id": "ac5f0d1c",
   "metadata": {},
   "source": [
    "### 1. Computing Mean, Median, and Standard Deviation:"
   ]
  },
  {
   "cell_type": "code",
   "execution_count": 32,
   "id": "39024991",
   "metadata": {},
   "outputs": [
    {
     "name": "stdout",
     "output_type": "stream",
     "text": [
      "Mean: 13.857142857142858\n",
      "Median: 14.0\n",
      "Standard Deviation: 3.9434782119549316\n"
     ]
    }
   ],
   "source": [
    "data = np.array([10, 15, 12, 8, 20, 18, 14])\n",
    "\n",
    "mean_value = np.mean(data)\n",
    "median_value = np.median(data)\n",
    "std_deviation = np.std(data)\n",
    "\n",
    "print(\"Mean:\", mean_value)\n",
    "print(\"Median:\", median_value)\n",
    "print(\"Standard Deviation:\", std_deviation)"
   ]
  },
  {
   "cell_type": "markdown",
   "id": "6abd9480",
   "metadata": {},
   "source": [
    "### 2. Correlation and Covariance:"
   ]
  },
  {
   "cell_type": "code",
   "execution_count": 33,
   "id": "d61602d5",
   "metadata": {},
   "outputs": [
    {
     "name": "stdout",
     "output_type": "stream",
     "text": [
      "Correlation: -0.9999999999999999\n",
      "Covariance: -2.5\n"
     ]
    }
   ],
   "source": [
    "data1 = np.array([1, 2, 3, 4, 5])\n",
    "data2 = np.array([5, 4, 3, 2, 1])\n",
    "\n",
    "correlation = np.corrcoef(data1, data2)[0, 1]\n",
    "covariance = np.cov(data1, data2)[0, 1]\n",
    "\n",
    "print(\"Correlation:\", correlation)\n",
    "print(\"Covariance:\", covariance)"
   ]
  },
  {
   "cell_type": "markdown",
   "id": "8ce8e9da",
   "metadata": {},
   "source": [
    "# Reading and Writing Data:"
   ]
  },
  {
   "cell_type": "markdown",
   "id": "51b42e78",
   "metadata": {},
   "source": [
    "### 1. Reading from a CSV File:"
   ]
  },
  {
   "cell_type": "code",
   "execution_count": 34,
   "id": "fb1b01b9",
   "metadata": {},
   "outputs": [
    {
     "ename": "FileNotFoundError",
     "evalue": "data.csv not found.",
     "output_type": "error",
     "traceback": [
      "\u001b[1;31m---------------------------------------------------------------------------\u001b[0m",
      "\u001b[1;31mFileNotFoundError\u001b[0m                         Traceback (most recent call last)",
      "Input \u001b[1;32mIn [34]\u001b[0m, in \u001b[0;36m<cell line: 6>\u001b[1;34m()\u001b[0m\n\u001b[0;32m      3\u001b[0m csv_file \u001b[38;5;241m=\u001b[39m \u001b[38;5;124m'\u001b[39m\u001b[38;5;124mdata.csv\u001b[39m\u001b[38;5;124m'\u001b[39m\n\u001b[0;32m      5\u001b[0m \u001b[38;5;66;03m# Load data from CSV file using NumPy\u001b[39;00m\n\u001b[1;32m----> 6\u001b[0m data_from_csv \u001b[38;5;241m=\u001b[39m \u001b[43mnp\u001b[49m\u001b[38;5;241;43m.\u001b[39;49m\u001b[43mgenfromtxt\u001b[49m\u001b[43m(\u001b[49m\u001b[43mcsv_file\u001b[49m\u001b[43m,\u001b[49m\u001b[43m \u001b[49m\u001b[43mdelimiter\u001b[49m\u001b[38;5;241;43m=\u001b[39;49m\u001b[38;5;124;43m'\u001b[39;49m\u001b[38;5;124;43m,\u001b[39;49m\u001b[38;5;124;43m'\u001b[39;49m\u001b[43m)\u001b[49m\n\u001b[0;32m      8\u001b[0m \u001b[38;5;28mprint\u001b[39m(\u001b[38;5;124m\"\u001b[39m\u001b[38;5;124mData from CSV:\u001b[39m\u001b[38;5;124m\"\u001b[39m)\n\u001b[0;32m      9\u001b[0m \u001b[38;5;28mprint\u001b[39m(data_from_csv)\n",
      "File \u001b[1;32m~\\anaconda3\\lib\\site-packages\\numpy\\lib\\npyio.py:1959\u001b[0m, in \u001b[0;36mgenfromtxt\u001b[1;34m(fname, dtype, comments, delimiter, skip_header, skip_footer, converters, missing_values, filling_values, usecols, names, excludelist, deletechars, replace_space, autostrip, case_sensitive, defaultfmt, unpack, usemask, loose, invalid_raise, max_rows, encoding, ndmin, like)\u001b[0m\n\u001b[0;32m   1957\u001b[0m     fname \u001b[38;5;241m=\u001b[39m os_fspath(fname)\n\u001b[0;32m   1958\u001b[0m \u001b[38;5;28;01mif\u001b[39;00m \u001b[38;5;28misinstance\u001b[39m(fname, \u001b[38;5;28mstr\u001b[39m):\n\u001b[1;32m-> 1959\u001b[0m     fid \u001b[38;5;241m=\u001b[39m \u001b[43mnp\u001b[49m\u001b[38;5;241;43m.\u001b[39;49m\u001b[43mlib\u001b[49m\u001b[38;5;241;43m.\u001b[39;49m\u001b[43m_datasource\u001b[49m\u001b[38;5;241;43m.\u001b[39;49m\u001b[43mopen\u001b[49m\u001b[43m(\u001b[49m\u001b[43mfname\u001b[49m\u001b[43m,\u001b[49m\u001b[43m \u001b[49m\u001b[38;5;124;43m'\u001b[39;49m\u001b[38;5;124;43mrt\u001b[39;49m\u001b[38;5;124;43m'\u001b[39;49m\u001b[43m,\u001b[49m\u001b[43m \u001b[49m\u001b[43mencoding\u001b[49m\u001b[38;5;241;43m=\u001b[39;49m\u001b[43mencoding\u001b[49m\u001b[43m)\u001b[49m\n\u001b[0;32m   1960\u001b[0m     fid_ctx \u001b[38;5;241m=\u001b[39m contextlib\u001b[38;5;241m.\u001b[39mclosing(fid)\n\u001b[0;32m   1961\u001b[0m \u001b[38;5;28;01melse\u001b[39;00m:\n",
      "File \u001b[1;32m~\\anaconda3\\lib\\site-packages\\numpy\\lib\\_datasource.py:193\u001b[0m, in \u001b[0;36mopen\u001b[1;34m(path, mode, destpath, encoding, newline)\u001b[0m\n\u001b[0;32m    156\u001b[0m \u001b[38;5;250m\u001b[39m\u001b[38;5;124;03m\"\"\"\u001b[39;00m\n\u001b[0;32m    157\u001b[0m \u001b[38;5;124;03mOpen `path` with `mode` and return the file object.\u001b[39;00m\n\u001b[0;32m    158\u001b[0m \n\u001b[1;32m   (...)\u001b[0m\n\u001b[0;32m    189\u001b[0m \n\u001b[0;32m    190\u001b[0m \u001b[38;5;124;03m\"\"\"\u001b[39;00m\n\u001b[0;32m    192\u001b[0m ds \u001b[38;5;241m=\u001b[39m DataSource(destpath)\n\u001b[1;32m--> 193\u001b[0m \u001b[38;5;28;01mreturn\u001b[39;00m \u001b[43mds\u001b[49m\u001b[38;5;241;43m.\u001b[39;49m\u001b[43mopen\u001b[49m\u001b[43m(\u001b[49m\u001b[43mpath\u001b[49m\u001b[43m,\u001b[49m\u001b[43m \u001b[49m\u001b[43mmode\u001b[49m\u001b[43m,\u001b[49m\u001b[43m \u001b[49m\u001b[43mencoding\u001b[49m\u001b[38;5;241;43m=\u001b[39;49m\u001b[43mencoding\u001b[49m\u001b[43m,\u001b[49m\u001b[43m \u001b[49m\u001b[43mnewline\u001b[49m\u001b[38;5;241;43m=\u001b[39;49m\u001b[43mnewline\u001b[49m\u001b[43m)\u001b[49m\n",
      "File \u001b[1;32m~\\anaconda3\\lib\\site-packages\\numpy\\lib\\_datasource.py:533\u001b[0m, in \u001b[0;36mDataSource.open\u001b[1;34m(self, path, mode, encoding, newline)\u001b[0m\n\u001b[0;32m    530\u001b[0m     \u001b[38;5;28;01mreturn\u001b[39;00m _file_openers[ext](found, mode\u001b[38;5;241m=\u001b[39mmode,\n\u001b[0;32m    531\u001b[0m                               encoding\u001b[38;5;241m=\u001b[39mencoding, newline\u001b[38;5;241m=\u001b[39mnewline)\n\u001b[0;32m    532\u001b[0m \u001b[38;5;28;01melse\u001b[39;00m:\n\u001b[1;32m--> 533\u001b[0m     \u001b[38;5;28;01mraise\u001b[39;00m \u001b[38;5;167;01mFileNotFoundError\u001b[39;00m(\u001b[38;5;124mf\u001b[39m\u001b[38;5;124m\"\u001b[39m\u001b[38;5;132;01m{\u001b[39;00mpath\u001b[38;5;132;01m}\u001b[39;00m\u001b[38;5;124m not found.\u001b[39m\u001b[38;5;124m\"\u001b[39m)\n",
      "\u001b[1;31mFileNotFoundError\u001b[0m: data.csv not found."
     ]
    }
   ],
   "source": [
    "import csv\n",
    "\n",
    "csv_file = 'data.csv'\n",
    "\n",
    "# Load data from CSV file using NumPy\n",
    "data_from_csv = np.genfromtxt(csv_file, delimiter=',')\n",
    "\n",
    "print(\"Data from CSV:\")\n",
    "print(data_from_csv)\n"
   ]
  },
  {
   "cell_type": "markdown",
   "id": "5c0db26f",
   "metadata": {},
   "source": [
    "### 2. Writing to a CSV File:"
   ]
  },
  {
   "cell_type": "code",
   "execution_count": 35,
   "id": "a89335d2",
   "metadata": {},
   "outputs": [
    {
     "name": "stdout",
     "output_type": "stream",
     "text": [
      "Data saved to new_data.csv\n"
     ]
    }
   ],
   "source": [
    "# Save data to a new CSV file\n",
    "new_csv_file = 'new_data.csv'\n",
    "data_to_save = np.array([[1, 2, 3], [4, 5, 6], [7, 8, 9]])\n",
    "\n",
    "np.savetxt(new_csv_file, data_to_save, delimiter=',')\n",
    "\n",
    "print(f\"Data saved to {new_csv_file}\")"
   ]
  },
  {
   "cell_type": "markdown",
   "id": "56aa2558",
   "metadata": {},
   "source": [
    "# Linear Algebra:"
   ]
  },
  {
   "cell_type": "markdown",
   "id": "f365f66f",
   "metadata": {},
   "source": [
    "### 1. Solving Linear Equations:"
   ]
  },
  {
   "cell_type": "code",
   "execution_count": 36,
   "id": "193cfa81",
   "metadata": {},
   "outputs": [
    {
     "name": "stdout",
     "output_type": "stream",
     "text": [
      "Solution: [ 2.57142857 -0.14285714]\n"
     ]
    }
   ],
   "source": [
    "# Consider the system of equations: 2x + y = 5, 3x - 2y = 8\n",
    "coeff_matrix = np.array([[2, 1], [3, -2]])\n",
    "constants = np.array([5, 8])\n",
    "\n",
    "# Solve for x and y\n",
    "solution = np.linalg.solve(coeff_matrix, constants)\n",
    "\n",
    "print(\"Solution:\", solution)"
   ]
  },
  {
   "cell_type": "markdown",
   "id": "136efe78",
   "metadata": {},
   "source": [
    "### 2. Eigenvalues and Eigenvectors:"
   ]
  },
  {
   "cell_type": "code",
   "execution_count": 37,
   "id": "22cc4bef",
   "metadata": {},
   "outputs": [
    {
     "name": "stdout",
     "output_type": "stream",
     "text": [
      "Eigenvalues: [3. 2.]\n",
      "Eigenvectors: [[0.89442719 0.70710678]\n",
      " [0.4472136  0.70710678]]\n"
     ]
    }
   ],
   "source": [
    "matrix = np.array([[4, -2], [1, 1]])\n",
    "\n",
    "# Compute eigenvalues and eigenvectors\n",
    "eigenvalues, eigenvectors = np.linalg.eig(matrix)\n",
    "\n",
    "print(\"Eigenvalues:\", eigenvalues)\n",
    "print(\"Eigenvectors:\", eigenvectors)"
   ]
  },
  {
   "cell_type": "markdown",
   "id": "08b1456a",
   "metadata": {},
   "source": [
    "# Filtering and Masking:"
   ]
  },
  {
   "cell_type": "markdown",
   "id": "f0bc51fb",
   "metadata": {},
   "source": [
    "### 1. Filtering with a Condition:"
   ]
  },
  {
   "cell_type": "code",
   "execution_count": 38,
   "id": "092b2c80",
   "metadata": {},
   "outputs": [
    {
     "name": "stdout",
     "output_type": "stream",
     "text": [
      "Filtered Data: [15 12 18 20]\n"
     ]
    }
   ],
   "source": [
    "data = np.array([10, 15, 8, 12, 18, 5, 20])\n",
    "\n",
    "# Create a mask for values greater than 10\n",
    "mask = data > 10\n",
    "\n",
    "# Apply the mask\n",
    "filtered_data = data[mask]\n",
    "\n",
    "print(\"Filtered Data:\", filtered_data)"
   ]
  },
  {
   "cell_type": "markdown",
   "id": "ef0c4564",
   "metadata": {},
   "source": [
    "### 2. Element-wise Operations with Conditions:"
   ]
  },
  {
   "cell_type": "code",
   "execution_count": 39,
   "id": "e4e7e8a5",
   "metadata": {},
   "outputs": [
    {
     "name": "stdout",
     "output_type": "stream",
     "text": [
      "Modified Data: [10 15  0 12 18  0 20]\n"
     ]
    }
   ],
   "source": [
    "# Replace values less than 10 with 0\n",
    "data[data < 10] = 0\n",
    "\n",
    "print(\"Modified Data:\", data)"
   ]
  },
  {
   "cell_type": "markdown",
   "id": "a12eabe5",
   "metadata": {},
   "source": [
    "# Broadcasting:"
   ]
  },
  {
   "cell_type": "markdown",
   "id": "bfde0211",
   "metadata": {},
   "source": [
    "### 1. Broadcasting in Arithmetic Operations:"
   ]
  },
  {
   "cell_type": "code",
   "execution_count": 40,
   "id": "9c76923e",
   "metadata": {},
   "outputs": [
    {
     "name": "stdout",
     "output_type": "stream",
     "text": [
      "Broadcasted Result:\n",
      "[[ 2  4  6]\n",
      " [ 8 10 12]]\n"
     ]
    }
   ],
   "source": [
    "# Broadcasting allows operations on arrays of different shapes and sizes\n",
    "\n",
    "arr = np.array([[1, 2, 3], [4, 5, 6]])\n",
    "scalar = 2\n",
    "\n",
    "result = arr * scalar\n",
    "\n",
    "print(\"Broadcasted Result:\")\n",
    "print(result)"
   ]
  },
  {
   "cell_type": "markdown",
   "id": "f47847e9",
   "metadata": {},
   "source": [
    "# Random Sampling and Simulation:"
   ]
  },
  {
   "cell_type": "markdown",
   "id": "c3bcbc1f",
   "metadata": {},
   "source": [
    "### 1. Generating Random Samples from a Normal Distribution:"
   ]
  },
  {
   "cell_type": "code",
   "execution_count": 41,
   "id": "689e335f",
   "metadata": {},
   "outputs": [
    {
     "data": {
      "image/png": "[encoded data removed]",
      "text/plain": [
       "<Figure size 432x288 with 1 Axes>"
      ]
     },
     "metadata": {
      "needs_background": "light"
     },
     "output_type": "display_data"
    }
   ],
   "source": [
    "# Simulate random samples from a normal distribution\n",
    "mean = 0\n",
    "std_dev = 1\n",
    "num_samples = 1000\n",
    "\n",
    "random_samples = np.random.normal(mean, std_dev, num_samples)\n",
    "\n",
    "# Visualize the histogram of the samples\n",
    "import matplotlib.pyplot as plt\n",
    "\n",
    "plt.hist(random_samples, bins=30, density=True, alpha=0.5, color='b')\n",
    "plt.title('Random Samples from Normal Distribution')\n",
    "plt.show()\n"
   ]
  },
  {
   "cell_type": "markdown",
   "id": "47bbf9f2",
   "metadata": {},
   "source": [
    "### 2. Simulating Coin Flips:"
   ]
  },
  {
   "cell_type": "code",
   "execution_count": 42,
   "id": "5889e7cc",
   "metadata": {},
   "outputs": [
    {
     "name": "stdout",
     "output_type": "stream",
     "text": [
      "Coin Flips:\n",
      "['Tails' 'Tails' 'Heads' 'Heads' 'Heads' 'Tails' 'Heads' 'Tails' 'Tails'\n",
      " 'Heads']\n"
     ]
    }
   ],
   "source": [
    "# Simulate 10 coin flips\n",
    "coin_flips = np.random.choice(['Heads', 'Tails'], size=10)\n",
    "\n",
    "print(\"Coin Flips:\")\n",
    "print(coin_flips)"
   ]
  },
  {
   "cell_type": "markdown",
   "id": "13d1ecf6",
   "metadata": {},
   "source": [
    "# Interpolation:"
   ]
  },
  {
   "cell_type": "markdown",
   "id": "c5843559",
   "metadata": {},
   "source": [
    "### 1. Linear Interpolation:"
   ]
  },
  {
   "cell_type": "code",
   "execution_count": 43,
   "id": "860b0b48",
   "metadata": {},
   "outputs": [
    {
     "name": "stdout",
     "output_type": "stream",
     "text": [
      "Original Points:\n",
      "\n",
      "\n",
      "[(1, 2), (2, 4), (3, 1), (4, 6), (5, 8)]\n",
      "\n",
      "\n",
      "Interpolated Points:\n",
      "\n",
      "\n",
      "[(1.0, 2.0), (1.4444444444444444, 2.888888888888889), (1.8888888888888888, 3.7777777777777777), (2.333333333333333, 3.000000000000001), (2.7777777777777777, 1.666666666666667), (3.2222222222222223, 2.1111111111111116), (3.6666666666666665, 4.333333333333332), (4.111111111111111, 6.222222222222221), (4.555555555555555, 7.111111111111111), (5.0, 8.0)]\n"
     ]
    }
   ],
   "source": [
    "# Interpolate values linearly between two points\n",
    "\n",
    "x = np.array([1, 2, 3, 4, 5])\n",
    "y = np.array([2, 4, 1, 6, 8])\n",
    "\n",
    "x_new = np.linspace(1, 5, 10)  # New points for interpolation\n",
    "y_new = np.interp(x_new, x, y)\n",
    "\n",
    "print(\"Original Points:\")\n",
    "print('\\n')\n",
    "print(list(zip(x, y)))\n",
    "print('\\n')\n",
    "print(\"Interpolated Points:\")\n",
    "print('\\n')\n",
    "print(list(zip(x_new, y_new)))"
   ]
  },
  {
   "cell_type": "markdown",
   "id": "ea962867",
   "metadata": {},
   "source": [
    "# Missing Data Handling:"
   ]
  },
  {
   "cell_type": "markdown",
   "id": "0f557124",
   "metadata": {},
   "source": [
    "### 1. Masking and Handling NaN Values:"
   ]
  },
  {
   "cell_type": "code",
   "execution_count": 44,
   "id": "695d8c1e",
   "metadata": {},
   "outputs": [
    {
     "name": "stdout",
     "output_type": "stream",
     "text": [
      "Original Data with NaN:\n",
      "[ 1.  2. nan  4.  5.]\n",
      "\n",
      "\n",
      "Data with NaN Masked:\n",
      "[1.0 2.0 -- 4.0 5.0]\n"
     ]
    }
   ],
   "source": [
    "# Introduce NaN values in an array and handle them\n",
    "\n",
    "data_with_nan = np.array([1, 2, np.nan, 4, 5])\n",
    "\n",
    "# Mask NaN values\n",
    "masked_data = np.ma.masked_invalid(data_with_nan)\n",
    "\n",
    "print(\"Original Data with NaN:\")\n",
    "print(data_with_nan)\n",
    "\n",
    "print('\\n')\n",
    "print(\"Data with NaN Masked:\")\n",
    "print(masked_data)"
   ]
  },
  {
   "cell_type": "markdown",
   "id": "f916e228",
   "metadata": {},
   "source": [
    "# Fourier Transform:"
   ]
  },
  {
   "cell_type": "code",
   "execution_count": 45,
   "id": "7710cba9",
   "metadata": {},
   "outputs": [
    {
     "name": "stdout",
     "output_type": "stream",
     "text": [
      "Signal:\n",
      "[1 2 3 4]\n",
      "Fourier Transform:\n",
      "[10.+0.j -2.+2.j -2.+0.j -2.-2.j]\n"
     ]
    }
   ],
   "source": [
    "# Compute the DFT of a signal\n",
    "\n",
    "signal = np.array([1, 2, 3, 4])\n",
    "fourier_transform = np.fft.fft(signal)\n",
    "\n",
    "print(\"Signal:\")\n",
    "print(signal)\n",
    "\n",
    "print(\"Fourier Transform:\")\n",
    "print(fourier_transform)"
   ]
  },
  {
   "cell_type": "code",
   "execution_count": null,
   "id": "7323ef74",
   "metadata": {},
   "outputs": [],
   "source": []
  }
 ],
 "metadata": {
  "kernelspec": {
   "display_name": "Python 3 (ipykernel)",
   "language": "python",
   "name": "python3"
  },
  "language_info": {
   "codemirror_mode": {
    "name": "ipython",
    "version": 3
   },
   "file_extension": ".py",
   "mimetype": "text/x-python",
   "name": "python",
   "nbconvert_exporter": "python",
   "pygments_lexer": "ipython3",
   "version": "3.9.12"
  }
 },
 "nbformat": 4,
 "nbformat_minor": 5
}
